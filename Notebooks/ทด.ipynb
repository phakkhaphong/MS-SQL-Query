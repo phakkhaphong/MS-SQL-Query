{
    "metadata": {
        "kernelspec": {
            "name": "SQL",
            "display_name": "SQL",
            "language": "sql"
        },
        "language_info": {
            "name": "sql",
            "version": ""
        }
    },
    "nbformat_minor": 2,
    "nbformat": 4,
    "cells": [
        {
            "cell_type": "markdown",
            "source": [
                "<span style=\"color: var(--vscode-foreground);\">การพิสูจน์ค่าความจริงนิพจน์ในประโยค WHERE และ HAVING หากCursor (ตัวชี้) ชี้ที่ตำแหน่งแถวข้อมูลใดอยู่ แล้วนิพจน์ให้ค่าความจริงออกมา แถวข้อมูลนั้นจะถูกนำทบไว้ใน Buffer รอการนำส่งผลลัพธ์ไปยังผู้สืบค้น</span>\n",
                "\n",
                "แต่หากนิพจน์ให้ค่าความเท็จออกมาในขณะที่ Cursor ชี้อยู่ที่แถวข้อมูลใด ก็จะข้ามนั้นไปยังแถวข้อมูลลำดับถัดไป ถ้ามี"
            ],
            "metadata": {
                "azdata_cell_guid": "aa8d9aae-020a-4fb8-b3a7-9514836a6a12"
            },
            "attachments": {}
        }
    ]
}