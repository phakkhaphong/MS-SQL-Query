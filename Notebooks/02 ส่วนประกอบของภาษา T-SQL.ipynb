{
    "metadata": {
        "kernelspec": {
            "name": "SQL",
            "display_name": "SQL",
            "language": "sql"
        },
        "language_info": {
            "name": "sql",
            "version": ""
        }
    },
    "nbformat_minor": 2,
    "nbformat": 4,
    "cells": [
        {
            "cell_type": "markdown",
            "source": [
                "# **ส่วนประกอบของภาษา T-SQL**\n",
                "\n",
                "## **ตัวแปร**\n",
                "\n",
                "### **มีตัวแปรภายใน (Local Variable) เพียงชนิดเดียว** **ใช้สำหรับเก็บข้อมูลเป็นการชั่วคราว**\n",
                "\n",
                "- **การตั้งชื่อตัวแปรต้องนำหน้าด้วยสัญลักษณ์ @** \n",
                "    - **@@ สงวนไว้ใช้กับตัวแปรระบบ (หรือฟังก์ชันพิเศษของระบบ) เท่านั้น**\n",
                "- **ต้องกำหนดชนิดข้อมูล**\n",
                "- **ต้องกำหนดค่าและใช้ภายใน Batch เดียวกันเท่านั้น**\n",
                "- **สามารถสร้างตัวแปรและกำหนดค่าให้กับตัวแปรในบรรทัดเดียว ได้ตั้งแต่ SQL Server 2008**"
            ],
            "metadata": {
                "azdata_cell_guid": "1dc297ec-acfc-467b-afdc-958d73ec8fa3"
            },
            "attachments": {}
        },
        {
            "cell_type": "code",
            "source": [
                "DECLARE @myVar int = 20;\r\n",
                "\r\n",
                "SELECT @myVar+30 as FirstResult;\r\n",
                "\r\n",
                "SET @myVar =70;\r\n",
                "\r\n",
                "SELECT @myVar+30 as SecondResult;"
            ],
            "metadata": {
                "azdata_cell_guid": "8d42c1bc-65c8-4818-b059-2ed23840ad7f",
                "language": "sql"
            },
            "outputs": [
                {
                    "output_type": "display_data",
                    "data": {
                        "text/html": "(1 row affected)"
                    },
                    "metadata": {}
                },
                {
                    "output_type": "display_data",
                    "data": {
                        "text/html": "(1 row affected)"
                    },
                    "metadata": {}
                },
                {
                    "output_type": "display_data",
                    "data": {
                        "text/html": "Total execution time: 00:00:00.011"
                    },
                    "metadata": {}
                },
                {
                    "output_type": "execute_result",
                    "metadata": {},
                    "execution_count": 2,
                    "data": {
                        "application/vnd.dataresource+json": {
                            "schema": {
                                "fields": [
                                    {
                                        "name": "FirstResult"
                                    }
                                ]
                            },
                            "data": [
                                {
                                    "FirstResult": "50"
                                }
                            ]
                        },
                        "text/html": [
                            "<table>",
                            "<tr><th>FirstResult</th></tr>",
                            "<tr><td>50</td></tr>",
                            "</table>"
                        ]
                    }
                },
                {
                    "output_type": "execute_result",
                    "metadata": {},
                    "execution_count": 2,
                    "data": {
                        "application/vnd.dataresource+json": {
                            "schema": {
                                "fields": [
                                    {
                                        "name": "SecondResult"
                                    }
                                ]
                            },
                            "data": [
                                {
                                    "SecondResult": "100"
                                }
                            ]
                        },
                        "text/html": [
                            "<table>",
                            "<tr><th>SecondResult</th></tr>",
                            "<tr><td>100</td></tr>",
                            "</table>"
                        ]
                    }
                }
            ],
            "execution_count": 2
        },
        {
            "cell_type": "markdown",
            "source": [
                "## นิพจน์\n",
                "\n",
                "### เป็นการผสมรวมของ ตัวแปร, ตัวดำเนินการ, ฟังก์ชัน, และค่าคงที่ เข้าด้วยกันอาจใช้ทั้งหมดหรือบางส่วน ให้ได้ผลลัพธ์เพียงผลลัพธ์เดียว\n",
                "\n",
                "<u>ตัวอย่างนิพจน์ในประโยค SELECT</u>"
            ],
            "metadata": {
                "language": "sql",
                "azdata_cell_guid": "11934434-5fe7-48ad-aab5-26003df68333"
            },
            "attachments": {}
        },
        {
            "cell_type": "code",
            "source": [
                "USE TSQL;\r\n",
                "\r\n",
                "SELECT \r\n",
                "    *\r\n",
                ",   OD.unitprice*OD.qty*(1-OD.discount) as LineTotal\r\n",
                "FROM Sales.OrderDetails as OD\r\n",
                "WHERE OD.orderid=10251;"
            ],
            "metadata": {
                "language": "sql",
                "azdata_cell_guid": "195e05d2-4084-4373-b9ac-085a27e992b9",
                "tags": []
            },
            "outputs": [
                {
                    "output_type": "display_data",
                    "data": {
                        "text/html": "(3 rows affected)"
                    },
                    "metadata": {}
                },
                {
                    "output_type": "display_data",
                    "data": {
                        "text/html": "Total execution time: 00:00:00.017"
                    },
                    "metadata": {}
                },
                {
                    "output_type": "execute_result",
                    "metadata": {},
                    "execution_count": 3,
                    "data": {
                        "application/vnd.dataresource+json": {
                            "schema": {
                                "fields": [
                                    {
                                        "name": "orderid"
                                    },
                                    {
                                        "name": "productid"
                                    },
                                    {
                                        "name": "unitprice"
                                    },
                                    {
                                        "name": "qty"
                                    },
                                    {
                                        "name": "discount"
                                    },
                                    {
                                        "name": "LineTotal"
                                    }
                                ]
                            },
                            "data": [
                                {
                                    "orderid": "10251",
                                    "productid": "22",
                                    "unitprice": "16.80",
                                    "qty": "6",
                                    "discount": "0.050",
                                    "LineTotal": "95.7600000"
                                },
                                {
                                    "orderid": "10251",
                                    "productid": "57",
                                    "unitprice": "15.60",
                                    "qty": "15",
                                    "discount": "0.050",
                                    "LineTotal": "222.3000000"
                                },
                                {
                                    "orderid": "10251",
                                    "productid": "65",
                                    "unitprice": "16.80",
                                    "qty": "20",
                                    "discount": "0.000",
                                    "LineTotal": "336.0000000"
                                }
                            ]
                        },
                        "text/html": [
                            "<table>",
                            "<tr><th>orderid</th><th>productid</th><th>unitprice</th><th>qty</th><th>discount</th><th>LineTotal</th></tr>",
                            "<tr><td>10251</td><td>22</td><td>16.80</td><td>6</td><td>0.050</td><td>95.7600000</td></tr>",
                            "<tr><td>10251</td><td>57</td><td>15.60</td><td>15</td><td>0.050</td><td>222.3000000</td></tr>",
                            "<tr><td>10251</td><td>65</td><td>16.80</td><td>20</td><td>0.000</td><td>336.0000000</td></tr>",
                            "</table>"
                        ]
                    }
                }
            ],
            "execution_count": 3
        },
        {
            "cell_type": "markdown",
            "source": [
                "<u>ตัวอย่างนิพจน์ในประโยค WHERE</u>"
            ],
            "metadata": {
                "language": "sql",
                "azdata_cell_guid": "98ec82a1-2181-4114-a531-6f8c2d3cf811"
            },
            "attachments": {}
        },
        {
            "cell_type": "code",
            "source": [
                "USE TSQL;\r\n",
                "\r\n",
                "SELECT\r\n",
                "*\r\n",
                "FROM HR.Employees as E\r\n",
                "WHERE E.hiredate < DATEADD(DAY,-7800,GETDATE());"
            ],
            "metadata": {
                "language": "sql",
                "azdata_cell_guid": "e8c7d8ce-7db5-476a-8053-58f4b7965284"
            },
            "outputs": [
                {
                    "output_type": "display_data",
                    "data": {
                        "text/html": "(2 rows affected)"
                    },
                    "metadata": {}
                },
                {
                    "output_type": "display_data",
                    "data": {
                        "text/html": "Total execution time: 00:00:00.008"
                    },
                    "metadata": {}
                },
                {
                    "output_type": "execute_result",
                    "metadata": {},
                    "execution_count": 18,
                    "data": {
                        "application/vnd.dataresource+json": {
                            "schema": {
                                "fields": [
                                    {
                                        "name": "empid"
                                    },
                                    {
                                        "name": "lastname"
                                    },
                                    {
                                        "name": "firstname"
                                    },
                                    {
                                        "name": "title"
                                    },
                                    {
                                        "name": "titleofcourtesy"
                                    },
                                    {
                                        "name": "birthdate"
                                    },
                                    {
                                        "name": "hiredate"
                                    },
                                    {
                                        "name": "address"
                                    },
                                    {
                                        "name": "city"
                                    },
                                    {
                                        "name": "region"
                                    },
                                    {
                                        "name": "postalcode"
                                    },
                                    {
                                        "name": "country"
                                    },
                                    {
                                        "name": "phone"
                                    },
                                    {
                                        "name": "mgrid"
                                    }
                                ]
                            },
                            "data": [
                                {
                                    "empid": "1",
                                    "lastname": "Davis",
                                    "firstname": "Sara",
                                    "title": "CEO",
                                    "titleofcourtesy": "Ms.",
                                    "birthdate": "1958-12-08 00:00:00.000",
                                    "hiredate": "2002-05-01 00:00:00.000",
                                    "address": "7890 - 20th Ave. E., Apt. 2A",
                                    "city": "Seattle",
                                    "region": "WA",
                                    "postalcode": "10003",
                                    "country": "USA",
                                    "phone": "(206) 555-0101",
                                    "mgrid": "NULL"
                                },
                                {
                                    "empid": "3",
                                    "lastname": "Lew",
                                    "firstname": "Judy",
                                    "title": "Sales Manager",
                                    "titleofcourtesy": "Ms.",
                                    "birthdate": "1973-08-30 00:00:00.000",
                                    "hiredate": "2002-04-01 00:00:00.000",
                                    "address": "2345 Moss Bay Blvd.",
                                    "city": "Kirkland",
                                    "region": "WA",
                                    "postalcode": "10007",
                                    "country": "USA",
                                    "phone": "(206) 555-0103",
                                    "mgrid": "2"
                                }
                            ]
                        },
                        "text/html": [
                            "<table>",
                            "<tr><th>empid</th><th>lastname</th><th>firstname</th><th>title</th><th>titleofcourtesy</th><th>birthdate</th><th>hiredate</th><th>address</th><th>city</th><th>region</th><th>postalcode</th><th>country</th><th>phone</th><th>mgrid</th></tr>",
                            "<tr><td>1</td><td>Davis</td><td>Sara</td><td>CEO</td><td>Ms.</td><td>1958-12-08 00:00:00.000</td><td>2002-05-01 00:00:00.000</td><td>7890 - 20th Ave. E., Apt. 2A</td><td>Seattle</td><td>WA</td><td>10003</td><td>USA</td><td>(206) 555-0101</td><td>NULL</td></tr>",
                            "<tr><td>3</td><td>Lew</td><td>Judy</td><td>Sales Manager</td><td>Ms.</td><td>1973-08-30 00:00:00.000</td><td>2002-04-01 00:00:00.000</td><td>2345 Moss Bay Blvd.</td><td>Kirkland</td><td>WA</td><td>10007</td><td>USA</td><td>(206) 555-0103</td><td>2</td></tr>",
                            "</table>"
                        ]
                    }
                }
            ],
            "execution_count": 18
        },
        {
            "cell_type": "markdown",
            "source": [
                "## คอมเม็นต์\n",
                "\n",
                "### คอมเม็นต์เป็นบล็อก โดยคอมเม็นต์ข้อความที่อยู่ระหว่าง /\\* และ \\*/"
            ],
            "metadata": {
                "language": "sql",
                "azdata_cell_guid": "cea77b4a-248c-463e-87da-48f37536e6ec"
            },
            "attachments": {}
        },
        {
            "cell_type": "code",
            "source": [
                "USE TSQL;\r\n",
                "\r\n",
                "/* \r\n",
                "\r\n",
                "SELECT\r\n",
                "*\r\n",
                "FROM HR.Employees as E\r\n",
                "WHERE E.hiredate < DATEADD(DAY,-7800,GETDATE());\r\n",
                "\r\n",
                "*/\r\n",
                "\r\n",
                "SELECT\r\n",
                "*\r\n",
                "FROM HR.Employees as E\r\n",
                "WHERE E.hiredate < DATEADD(YEAR,-21,GETDATE());\r\n",
                "\r\n",
                ""
            ],
            "metadata": {
                "language": "sql",
                "azdata_cell_guid": "af994ba0-1ef0-435c-8e22-4dfec7f91138"
            },
            "outputs": [],
            "execution_count": null
        },
        {
            "cell_type": "markdown",
            "source": [
                "### คอมเม็นต์จากจุดที่มี  -- (dash dash) ไปจนสิ้นบรรทัด"
            ],
            "metadata": {
                "language": "sql",
                "azdata_cell_guid": "cb75e4b7-437d-4176-95e8-be4f451a7f6b"
            },
            "attachments": {}
        },
        {
            "cell_type": "code",
            "source": [
                "USE TSQL;\r\n",
                "\r\n",
                "SELECT\r\n",
                "*\r\n",
                "FROM HR.Employees as E\r\n",
                "WHERE E.hiredate < DATEADD(DAY,-7800,GETDATE()); --สามารถทดสอบเปลี่ยนตัวเลขในฟังก์ชัน DATEADD ได้"
            ],
            "metadata": {
                "language": "sql",
                "azdata_cell_guid": "4172b4a5-5a47-4b81-9bcf-1bfe0b86c385",
                "tags": []
            },
            "outputs": [],
            "execution_count": null
        },
        {
            "cell_type": "markdown",
            "source": [
                "## Predicate\n",
                "\n",
                "### <span style=\"color: var(--vscode-foreground);\">Predicate เป็นหลักการทางคณิตศาสตร์ ใช้ใน Relational Database Model เป็นนิพจน์ที่ให้ค่า</span>\n",
                "\n",
                "- จริง (True)\n",
                "- เท็จ (False)\n",
                "- พิสูจน์ไม่ได้ว่าจริงหรือเท็จ (ในทางคอมพิวเตอร์ เมื่อพิสูจน์ไม่ได้จะถือเป็น เท็จ)\n",
                "\n",
                "ดูรายละเอียดเพิ่มเติมได้จาก [Wikipedia](https:\\en.wikipedia.org\\wiki\\Three-valued_logic) <span style=\"color: var(--vscode-foreground);\">มักถูกเรียกว่า Boolean Logic</span>\n",
                "\n",
                "พบได้ในแทบทุกประโยคของคำสั่ง SELECT"
            ],
            "metadata": {
                "language": "sql",
                "azdata_cell_guid": "9bf32048-31a7-4029-a2ff-5f73eb60d980"
            },
            "attachments": {}
        },
        {
            "cell_type": "markdown",
            "source": [
                "<u>ตัวอย่าง Predicate ในประโยค WHERE และ HAVING</u>\n",
                "\n",
                "การใช้งานประโยค WHERE และ HAVING จะมีบทเรียนเฉพาะโดยละเอียดภายหลัง"
            ],
            "metadata": {
                "language": "sql",
                "azdata_cell_guid": "d77f7c50-7044-4b1a-8ee9-44877573b165"
            },
            "attachments": {}
        },
        {
            "cell_type": "code",
            "source": [
                "USE TSQL;\r\n",
                "\r\n",
                "SELECT * FROM HR.Employees\r\n",
                "WHERE title='Sales Manager';"
            ],
            "metadata": {
                "language": "sql",
                "azdata_cell_guid": "c3c3bb92-d335-438f-8d81-6e6f9287b382"
            },
            "outputs": [],
            "execution_count": null
        },
        {
            "cell_type": "code",
            "source": [
                "USE TSQL;\r\n",
                "\r\n",
                "SELECT custid FROM Sales.Orders\r\n",
                "GROUP BY custid\r\n",
                "HAVING COUNT(*)>20;"
            ],
            "metadata": {
                "language": "sql",
                "azdata_cell_guid": "4ce6acd2-b2e7-43d8-b1ac-02385c6ce0ed"
            },
            "outputs": [],
            "execution_count": null
        },
        {
            "cell_type": "markdown",
            "source": [
                "<u>ตัวอย่าง Predicate ในนิพจน์ CASE</u> \n",
                "\n",
                "<span style=\"color: var(--vscode-foreground);\">จะมีบทเรียนของ</span>นิพจน์ CASE ในภายหลัง"
            ],
            "metadata": {
                "language": "sql",
                "azdata_cell_guid": "2495fbb5-349d-474e-a79e-aaf5d1cf3b89"
            },
            "attachments": {}
        },
        {
            "cell_type": "code",
            "source": [
                "USE TSQL;\r\n",
                "\r\n",
                "SELECT\r\n",
                "    *\r\n",
                ",   CASE \r\n",
                "        WHEN unitprice = 0 OR discontinued=1 THEN 'Not for Sale'\r\n",
                "        WHEN unitprice<50 THEN 'Low Price'\r\n",
                "        WHEN unitprice<100 THEN 'Medium Price'\r\n",
                "        ELSE 'High Price'\r\n",
                "    END as PriceDesc\r\n",
                "FROM Production.Products;"
            ],
            "metadata": {
                "language": "sql",
                "azdata_cell_guid": "49bf6dad-ebab-4f39-b596-06d896a42c8c"
            },
            "outputs": [],
            "execution_count": null
        },
        {
            "cell_type": "markdown",
            "source": [
                "<u>ตัวอย่าง Predicate ในเงื่อนไขการ JOIN หลังประโยค ON</u>\n",
                "\n",
                "การ JOIN ตาราง จะมีบทเรียนเฉพาะโดยละเอียดภายหลัง"
            ],
            "metadata": {
                "language": "sql",
                "azdata_cell_guid": "b0c33408-5642-4649-8e3d-43fa21f4e33e"
            },
            "attachments": {}
        },
        {
            "cell_type": "code",
            "source": [
                "USE TSQL;\r\n",
                "\r\n",
                "SELECT  \r\n",
                "    C.categoryname\r\n",
                ",   P.productname\r\n",
                ",   P.unitprice\r\n",
                "FROM Production.Categories as C INNER JOIN Production.Products as P \r\n",
                "ON C.categoryid=P.categoryid;\r\n",
                ""
            ],
            "metadata": {
                "language": "sql",
                "azdata_cell_guid": "281495ca-2cbb-4631-a8ab-b006884e3bcd",
                "tags": []
            },
            "outputs": [],
            "execution_count": null
        }
    ]
}